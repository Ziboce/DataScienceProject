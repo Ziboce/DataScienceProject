{
 "cells": [
  {
   "cell_type": "code",
   "execution_count": 1,
   "metadata": {},
   "outputs": [
    {
     "name": "stdout",
     "output_type": "stream",
     "text": [
      "WARNING:tensorflow:From C:\\Users\\Jimmy Walraff\\AppData\\Roaming\\Python\\Python310\\site-packages\\keras\\src\\losses.py:2976: The name tf.losses.sparse_softmax_cross_entropy is deprecated. Please use tf.compat.v1.losses.sparse_softmax_cross_entropy instead.\n",
      "\n"
     ]
    }
   ],
   "source": [
    "import numpy as np\n",
    "import pandas as pd\n",
    "import keras\n",
    "import tensorflow as tf"
   ]
  },
  {
   "cell_type": "code",
   "execution_count": 2,
   "metadata": {},
   "outputs": [],
   "source": [
    "# Function that takes an image file as input and returns a (350x350x3) numpy array of pixel values\n",
    "from PIL import Image\n",
    "\n",
    "def image_to_array(image_path):\n",
    "    try:\n",
    "        img = Image.open(image_path)\n",
    "        img_array = np.array(img)\n",
    "        img_array = img_array / 255.0\n",
    "        return img_array\n",
    "    except Exception as e:\n",
    "        print(f\"Error processing image {image_path}: {e}\")\n",
    "        return None"
   ]
  },
  {
   "cell_type": "code",
   "execution_count": 3,
   "metadata": {},
   "outputs": [],
   "source": [
    "def log_progress(sequence, every=None, size=None, name='Items'):\n",
    "    from ipywidgets import IntProgress, HTML, VBox\n",
    "    from IPython.display import display\n",
    "\n",
    "    is_iterator = False\n",
    "    if size is None:\n",
    "        try:\n",
    "            size = len(sequence)\n",
    "        except TypeError:\n",
    "            is_iterator = True\n",
    "    if size is not None:\n",
    "        if every is None:\n",
    "            if size <= 200:\n",
    "                every = 1\n",
    "            else:\n",
    "                every = int(size / 200)     # every 0.5%\n",
    "    else:\n",
    "        assert every is not None, 'sequence is iterator, set every'\n",
    "\n",
    "    if is_iterator:\n",
    "        progress = IntProgress(min=0, max=1, value=1)\n",
    "        progress.bar_style = 'info'\n",
    "    else:\n",
    "        progress = IntProgress(min=0, max=size, value=0)\n",
    "    label = HTML()\n",
    "    box = VBox(children=[label, progress])\n",
    "    display(box)\n",
    "\n",
    "    index = 0\n",
    "    try:\n",
    "        for index, record in enumerate(sequence, 1):\n",
    "            if index == 1 or index % every == 0:\n",
    "                if is_iterator:\n",
    "                    label.value = '{name}: {index} / ?'.format(\n",
    "                        name=name,\n",
    "                        index=index\n",
    "                    )\n",
    "                else:\n",
    "                    progress.value = index\n",
    "                    label.value = u'{name}: {index} / {size}'.format(\n",
    "                        name=name,\n",
    "                        index=index,\n",
    "                        size=size\n",
    "                    )\n",
    "            yield record\n",
    "    except:\n",
    "        progress.bar_style = 'danger'\n",
    "        raise\n",
    "    else:\n",
    "        progress.bar_style = 'success'\n",
    "        progress.value = index\n",
    "        label.value = \"{name}: {index}\".format(\n",
    "            name=name,\n",
    "            index=str(index or '?')\n",
    "        )"
   ]
  },
  {
   "cell_type": "code",
   "execution_count": 4,
   "metadata": {},
   "outputs": [
    {
     "data": {
      "application/vnd.jupyter.widget-view+json": {
       "model_id": "a1787bdaf354421daf7863e277aba6ce",
       "version_major": 2,
       "version_minor": 0
      },
      "text/plain": [
       "VBox(children=(HTML(value=''), IntProgress(value=0, max=4191)))"
      ]
     },
     "metadata": {},
     "output_type": "display_data"
    },
    {
     "name": "stdout",
     "output_type": "stream",
     "text": [
      "156 137 19\n"
     ]
    }
   ],
   "source": [
    "import os\n",
    "\n",
    "# pos_directory = '/Volumes/PHILIPS UFD/all_cropped/pos'\n",
    "# neg_directory = '/Volumes/PHILIPS UFD/all_cropped/neg'\n",
    "\n",
    "pos_directory = 'C:/Users/Jimmy Walraff/OneDrive/Documents/Ulg/Master 1/Data Science Project/Project/Volumes/PHILIPS UFD/all_cropped/pos'\n",
    "neg_directory = 'C:/Users/Jimmy Walraff/OneDrive/Documents/Ulg/Master 1/Data Science Project/Project/Volumes/PHILIPS UFD/all_cropped/neg'\n",
    "\n",
    "count = 0\n",
    "count_2 = 0\n",
    "count_4 = 0\n",
    "for filename in log_progress(os.listdir(pos_directory), every = 1):\n",
    "    if filename.endswith(\".png\"):\n",
    "        image_path = os.path.join(pos_directory, filename)\n",
    "        pixels = image_to_array(image_path)\n",
    "        if pixels is not None and pixels.shape != (350, 350, 3):\n",
    "            count += 1\n",
    "            if pixels.shape[2] == 2:\n",
    "                count_2 += 1\n",
    "            elif pixels.shape[2] == 4:\n",
    "                count_4 += 1\n",
    "print(count, count_2, count_4)"
   ]
  },
  {
   "cell_type": "code",
   "execution_count": 5,
   "metadata": {},
   "outputs": [
    {
     "data": {
      "application/vnd.jupyter.widget-view+json": {
       "model_id": "f0dc72eca56848cab74f9fd9691b0ce6",
       "version_major": 2,
       "version_minor": 0
      },
      "text/plain": [
       "VBox(children=(HTML(value=''), IntProgress(value=0, max=8590)))"
      ]
     },
     "metadata": {},
     "output_type": "display_data"
    },
    {
     "name": "stdout",
     "output_type": "stream",
     "text": [
      "576 512 64\n"
     ]
    }
   ],
   "source": [
    "count = 0\n",
    "count_2 = 0\n",
    "count_4 = 0\n",
    "for filename in log_progress(os.listdir(neg_directory), every = 1):\n",
    "    if filename.endswith(\".png\"):\n",
    "        image_path = os.path.join(neg_directory, filename)\n",
    "        pixels = image_to_array(image_path)\n",
    "        if pixels is not None and pixels.shape != (350, 350, 3):\n",
    "            count += 1\n",
    "            if pixels.shape[2] == 2:\n",
    "                count_2 += 1\n",
    "            elif pixels.shape[2] == 4:\n",
    "                count_4 += 1\n",
    "print(count, count_2, count_4)"
   ]
  },
  {
   "cell_type": "code",
   "execution_count": 6,
   "metadata": {},
   "outputs": [],
   "source": [
    "pos_image_data = []\n",
    "neg_image_data = []\n",
    "\n",
    "sample_size = 100 # to delete, we want full images\n",
    "\n",
    "for filename in os.listdir(pos_directory):\n",
    "    if len(pos_image_data) == sample_size:\n",
    "        break\n",
    "    if filename.endswith(\".png\"):\n",
    "        image_path = os.path.join(pos_directory, filename)\n",
    "        pixels = image_to_array(image_path)\n",
    "        if pixels is not None and pixels.shape == (350, 350, 3):\n",
    "            pos_image_data.append(pixels)\n",
    "            \n",
    "for filename in os.listdir(neg_directory):\n",
    "    if len(neg_image_data) == sample_size:\n",
    "        break\n",
    "    if filename.endswith(\".png\"):\n",
    "        image_path = os.path.join(neg_directory, filename)\n",
    "        pixels = image_to_array(image_path)\n",
    "        if pixels is not None and pixels.shape == (350, 350, 3):\n",
    "            neg_image_data.append(pixels)"
   ]
  },
  {
   "cell_type": "code",
   "execution_count": 7,
   "metadata": {},
   "outputs": [
    {
     "name": "stdout",
     "output_type": "stream",
     "text": [
      "X shape :  (100, 350, 350, 3)\n",
      "XNOT shape :  (100, 350, 350, 3)\n"
     ]
    }
   ],
   "source": [
    "X = np.array(pos_image_data)\n",
    "Xnot = np.array(neg_image_data)\n",
    "\n",
    "print(\"X shape : \", X.shape)\n",
    "print(\"XNOT shape : \", Xnot.shape)"
   ]
  },
  {
   "cell_type": "code",
   "execution_count": 8,
   "metadata": {},
   "outputs": [
    {
     "name": "stdout",
     "output_type": "stream",
     "text": [
      "y shape :  (100,)\n",
      "yNOT shape :  (100,)\n"
     ]
    }
   ],
   "source": [
    "y = np.ones(sample_size)\n",
    "ynot = np.zeros(sample_size)\n",
    "\n",
    "print(\"y shape : \", y.shape)\n",
    "print(\"yNOT shape : \", ynot.shape)"
   ]
  },
  {
   "cell_type": "code",
   "execution_count": 9,
   "metadata": {},
   "outputs": [
    {
     "name": "stdout",
     "output_type": "stream",
     "text": [
      "Xtot shape :  (200, 350, 350, 3)\n",
      "ytot shape :  (200,)\n"
     ]
    }
   ],
   "source": [
    "Xtot = np.concatenate((X, Xnot), axis=0)\n",
    "ytot = np.concatenate((y, ynot), axis=0)\n",
    "\n",
    "print(\"Xtot shape : \", Xtot.shape)\n",
    "print(\"ytot shape : \", ytot.shape)"
   ]
  },
  {
   "cell_type": "code",
   "execution_count": 10,
   "metadata": {},
   "outputs": [
    {
     "name": "stdout",
     "output_type": "stream",
     "text": [
      "X_train shape :  (160, 350, 350, 3)\n",
      "X_test shape :  (40, 350, 350, 3)\n",
      "y_train shape :  (160,)\n",
      "y_test shape :  (40,)\n"
     ]
    }
   ],
   "source": [
    "from sklearn.model_selection import train_test_split\n",
    "X_train, X_test, y_train, y_test = train_test_split(Xtot, ytot, test_size=0.2, random_state=42)\n",
    "\n",
    "print(\"X_train shape : \", X_train.shape)\n",
    "print(\"X_test shape : \", X_test.shape)\n",
    "print(\"y_train shape : \", y_train.shape)\n",
    "print(\"y_test shape : \", y_test.shape)"
   ]
  },
  {
   "cell_type": "code",
   "execution_count": 11,
   "metadata": {},
   "outputs": [],
   "source": [
    "layers_size = 64\n",
    "conv_size = 5\n",
    "dense_size = 1\n",
    "conv_layers = 3\n",
    "dense_layer = 1"
   ]
  },
  {
   "cell_type": "code",
   "execution_count": 12,
   "metadata": {},
   "outputs": [],
   "source": [
    "# check_point_path = 'Training/cp-{epoch:04d}.ckpt'"
   ]
  },
  {
   "cell_type": "code",
   "execution_count": 13,
   "metadata": {},
   "outputs": [],
   "source": [
    "# cp_callback = tf.keras.callbacks.ModelCheckpoint(filepath=check_point_path, save_weights_only=True, verbose=1)"
   ]
  },
  {
   "cell_type": "code",
   "execution_count": 14,
   "metadata": {},
   "outputs": [
    {
     "name": "stdout",
     "output_type": "stream",
     "text": [
      "WARNING:tensorflow:From C:\\Users\\Jimmy Walraff\\AppData\\Roaming\\Python\\Python310\\site-packages\\keras\\src\\backend.py:873: The name tf.get_default_graph is deprecated. Please use tf.compat.v1.get_default_graph instead.\n",
      "\n",
      "WARNING:tensorflow:From C:\\Users\\Jimmy Walraff\\AppData\\Roaming\\Python\\Python310\\site-packages\\keras\\src\\layers\\pooling\\max_pooling2d.py:161: The name tf.nn.max_pool is deprecated. Please use tf.nn.max_pool2d instead.\n",
      "\n",
      "WARNING:tensorflow:From C:\\Users\\Jimmy Walraff\\AppData\\Roaming\\Python\\Python310\\site-packages\\keras\\src\\optimizers\\__init__.py:309: The name tf.train.Optimizer is deprecated. Please use tf.compat.v1.train.Optimizer instead.\n",
      "\n",
      "Model: \"sequential\"\n",
      "_________________________________________________________________\n",
      " Layer (type)                Output Shape              Param #   \n",
      "=================================================================\n",
      " conv2d (Conv2D)             (None, 350, 350, 64)      4864      \n",
      "                                                                 \n",
      " max_pooling2d (MaxPooling2  (None, 175, 175, 64)      0         \n",
      " D)                                                              \n",
      "                                                                 \n",
      " conv2d_1 (Conv2D)           (None, 175, 175, 64)      102464    \n",
      "                                                                 \n",
      " max_pooling2d_1 (MaxPoolin  (None, 87, 87, 64)        0         \n",
      " g2D)                                                            \n",
      "                                                                 \n",
      " conv2d_2 (Conv2D)           (None, 87, 87, 64)        102464    \n",
      "                                                                 \n",
      " max_pooling2d_2 (MaxPoolin  (None, 43, 43, 64)        0         \n",
      " g2D)                                                            \n",
      "                                                                 \n",
      " flatten (Flatten)           (None, 118336)            0         \n",
      "                                                                 \n",
      " dense (Dense)               (None, 64)                7573568   \n",
      "                                                                 \n",
      " dense_1 (Dense)             (None, 1)                 65        \n",
      "                                                                 \n",
      "=================================================================\n",
      "Total params: 7783425 (29.69 MB)\n",
      "Trainable params: 7783425 (29.69 MB)\n",
      "Non-trainable params: 0 (0.00 Byte)\n",
      "_________________________________________________________________\n"
     ]
    }
   ],
   "source": [
    "model = tf.keras.Sequential()\n",
    "\n",
    "model.add(tf.keras.layers.Conv2D(layers_size, conv_size, input_shape=(350, 350, 3), padding='same', activation='relu'))\n",
    "model.add(tf.keras.layers.MaxPooling2D(pool_size=(2, 2)))\n",
    "\n",
    "for i in range(conv_layers-1):\n",
    "    model.add(tf.keras.layers.Conv2D(layers_size, conv_size, padding='same', activation='relu'))\n",
    "    model.add(tf.keras.layers.MaxPooling2D(pool_size=(2, 2)))\n",
    "\n",
    "model.add(tf.keras.layers.Flatten())\n",
    "\n",
    "for i in range(dense_layer):\n",
    "    model.add(tf.keras.layers.Dense(layers_size, activation='relu'))\n",
    "\n",
    "model.add(tf.keras.layers.Dense(1, activation='sigmoid'))\n",
    "\n",
    "model.compile(optimizer='adam', loss='binary_crossentropy', metrics=['accuracy'])\n",
    "\n",
    "model.summary()"
   ]
  },
  {
   "cell_type": "code",
   "execution_count": 15,
   "metadata": {},
   "outputs": [
    {
     "name": "stdout",
     "output_type": "stream",
     "text": [
      "Epoch 1/10\n",
      "WARNING:tensorflow:From C:\\Users\\Jimmy Walraff\\AppData\\Roaming\\Python\\Python310\\site-packages\\keras\\src\\utils\\tf_utils.py:492: The name tf.ragged.RaggedTensorValue is deprecated. Please use tf.compat.v1.ragged.RaggedTensorValue instead.\n",
      "\n",
      "WARNING:tensorflow:From C:\\Users\\Jimmy Walraff\\AppData\\Roaming\\Python\\Python310\\site-packages\\keras\\src\\engine\\base_layer_utils.py:384: The name tf.executing_eagerly_outside_functions is deprecated. Please use tf.compat.v1.executing_eagerly_outside_functions instead.\n",
      "\n",
      "4/4 [==============================] - 21s 5s/step - loss: 1.5279 - accuracy: 0.5625 - val_loss: 0.7488 - val_accuracy: 0.5312\n",
      "Epoch 2/10\n",
      "4/4 [==============================] - 19s 5s/step - loss: 0.7173 - accuracy: 0.5625 - val_loss: 0.7007 - val_accuracy: 0.4688\n",
      "Epoch 3/10\n",
      "4/4 [==============================] - 19s 5s/step - loss: 0.7192 - accuracy: 0.4375 - val_loss: 0.6927 - val_accuracy: 0.5312\n",
      "Epoch 4/10\n",
      "4/4 [==============================] - 19s 5s/step - loss: 0.6909 - accuracy: 0.5078 - val_loss: 0.6928 - val_accuracy: 0.4688\n",
      "Epoch 5/10\n",
      "4/4 [==============================] - 19s 5s/step - loss: 0.6941 - accuracy: 0.4844 - val_loss: 0.6929 - val_accuracy: 0.4688\n",
      "Epoch 6/10\n",
      "4/4 [==============================] - 19s 5s/step - loss: 0.6932 - accuracy: 0.5078 - val_loss: 0.6931 - val_accuracy: 0.4688\n",
      "Epoch 7/10\n",
      "4/4 [==============================] - 19s 5s/step - loss: 0.6921 - accuracy: 0.4766 - val_loss: 0.6925 - val_accuracy: 0.5312\n",
      "Epoch 8/10\n",
      "4/4 [==============================] - 19s 5s/step - loss: 0.6921 - accuracy: 0.5156 - val_loss: 0.6914 - val_accuracy: 0.4688\n",
      "Epoch 9/10\n",
      "4/4 [==============================] - 19s 5s/step - loss: 0.6912 - accuracy: 0.5000 - val_loss: 0.6878 - val_accuracy: 0.5312\n",
      "Epoch 10/10\n",
      "4/4 [==============================] - 19s 5s/step - loss: 0.6894 - accuracy: 0.4922 - val_loss: 0.6931 - val_accuracy: 0.5312\n",
      "INFO:tensorflow:Assets written to: Models/modelV0\\assets\n"
     ]
    },
    {
     "name": "stderr",
     "output_type": "stream",
     "text": [
      "INFO:tensorflow:Assets written to: Models/modelV0\\assets\n"
     ]
    }
   ],
   "source": [
    "# Fitting = model.fit(X_train, y_train, batch_size=32, epochs=10, validation_split=0.2, callbacks=[cp_callback]) # need to add callback\n",
    "Fitting = model.fit(X_train, y_train, batch_size=32, epochs=10, validation_split=0.2) # need to add callback\n",
    "\n",
    "model.save('Models/modelV0')"
   ]
  },
  {
   "cell_type": "code",
   "execution_count": 16,
   "metadata": {},
   "outputs": [
    {
     "name": "stdout",
     "output_type": "stream",
     "text": [
      "2/2 [==============================] - 2s 331ms/step\n",
      "0.5\n"
     ]
    }
   ],
   "source": [
    "from sklearn.metrics import accuracy_score\n",
    "y_predictions = model.predict(X_test)\n",
    "y_pred = np.where(y_predictions>0.5,1,0)\n",
    "acc = accuracy_score(y_pred,y_test)\n",
    "print(acc)"
   ]
  },
  {
   "cell_type": "code",
   "execution_count": 17,
   "metadata": {},
   "outputs": [
    {
     "data": {
      "image/png": "[encoded data removed]",
      "text/plain": [
       "<Figure size 1000x800 with 2 Axes>"
      ]
     },
     "metadata": {},
     "output_type": "display_data"
    }
   ],
   "source": [
    "from sklearn import metrics\n",
    "import seaborn as sns\n",
    "import matplotlib.pyplot as plt\n",
    "\n",
    "groups = ['Negative', 'Positive']\n",
    "\n",
    "cm = metrics.confusion_matrix(y_test.reshape(y_pred.shape[0]), y_pred)\n",
    "cm = cm.astype('float') / cm.sum(axis=1)[:, np.newaxis]\n",
    "\n",
    "plt.figure(figsize=(10,8))\n",
    "\n",
    "sns.heatmap(cm, annot=True, fmt=\".3f\", linewidths=.2, square = True, xticklabels=groups, yticklabels=groups)\n",
    "plt.ylabel('Actual label')\n",
    "plt.xlabel('Predicted label')\n",
    "plt.savefig(\"ConfusionMatrix.pdf\")\n",
    "\n",
    "plt.show()"
   ]
  }
 ],
 "metadata": {
  "kernelspec": {
   "display_name": "Python 3 (ipykernel)",
   "language": "python",
   "name": "python3"
  },
  "language_info": {
   "codemirror_mode": {
    "name": "ipython",
    "version": 3
   },
   "file_extension": ".py",
   "mimetype": "text/x-python",
   "name": "python",
   "nbconvert_exporter": "python",
   "pygments_lexer": "ipython3",
   "version": "3.10.7"
  }
 },
 "nbformat": 4,
 "nbformat_minor": 2
}
